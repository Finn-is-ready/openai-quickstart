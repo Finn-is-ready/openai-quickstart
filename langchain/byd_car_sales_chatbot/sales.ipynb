{
 "cells": [
  {
   "cell_type": "markdown",
   "id": "69032b4b-b031-4020-beb0-e8dfd22b660e",
   "metadata": {},
   "source": [
    "# LangChain 实战：汽车销售聊天机器人"
   ]
  },
  {
   "cell_type": "markdown",
   "id": "0f3e2d5a-c2ff-4faf-b153-d1751c25fae0",
   "metadata": {},
   "source": [
    "## 使用 GPT-4 构造销售话术数据\n",
    "\n",
    "ChatGPT 分享链接：https://chat.openai.com/share/f3e4b9b0-95fb-4c6a-a3c7-f901dd194c91\n",
    "\n",
    "\n",
    "使用 ChatGPT 构造销售数据的 Prompt 示例：\n",
    "\n",
    "```\n",
    "你是BYD顶级的汽车销售，现在培训职场新人，请给出100条实用的销售话术。\n",
    "\n",
    "每条销售话术以如下格式给出：\n",
    "[客户问题]\n",
    "[销售回答]\n",
    "\n",
    "```\n",
    "\n",
    "GPT-4 回复结果：\n",
    "\n",
    "```\n",
    "在汽车销售行业中，精心准备的销售话术可以极大地提高成交率。以下是一些适用于BYD汽车销售的实用话术：\n",
    "\n",
    "1.\n",
    "[客户问题] 这款汽车的价格是多少?\n",
    "[销售回答] 这款汽车的起售价是XX万元，具体价格根据您选择的配置和附加选项有所不同。\n",
    "\n",
    "2.\n",
    "[客户问题] 我担心汽车噪音大。\n",
    "[销售回答] 这款汽车采用了先进的隔音技术，能有效降低驾驶噪音，为您提供宁静的驾驶环境。\n",
    "\n",
    "3.\n",
    "[客户问题] 我看这款车的售价还在涨，这个投资回报怎么样？\n",
    "[销售回答] 汽车在市场上的表现一直稳定，保值率高，是您理想的投资选择。\n",
    "\n",
    "4.\n",
    "[客户问题] 有没有驾驶学校推荐？\n",
    "[销售回答] 附近有多所优质的驾驶学校，非常适合新手驾驶者。\n",
    "\n",
    "5.\n",
    "[客户问题] 保养服务怎么样？\n",
    "[销售回答] 我们的保养服务得到了车主一致好评，服务非常到位。\n",
    "\n",
    "6.\n",
    "[客户问题] 我想要白色的车。\n",
    "[销售回答] 很好，我们确实有白色的车型，它们的外观非常漂亮。\n",
    "\n",
    "7.\n",
    "[客户问题] 这款车安全吗？\n",
    "[销售回答] 当然，我们的车辆都配备了最新的安全系统，包括ABS、EBD、ESP等。\n",
    "\n",
    "8.\n",
    "[客户问题] 预计什么时候交车？\n",
    "[销售回答] 根据目前的进度，我们预计将在一个月后交车。\n",
    "\n",
    "9.\n",
    "[客户问题] 我不想要基础款的车。\n",
    "[销售回答] 我理解您的需求，我们还有多种配置的车型可以选择。\n",
    "\n",
    "10.\n",
    "[客户问题] 有优惠吗？\n",
    "[销售回答] 当然，如果您现在下订，我们可以给您一些优惠。\n",
    "\n",
    "11.\n",
    "[客户问题] 你们是否提供分期付款服务？\n",
    "[销售回答] 是的，我们与多家银行合作，可以帮助您快速办理分期付款。\n",
    "\n",
    "12.\n",
    "[客户问题] 购车税费怎么算？\n",
    "[销售回答] 我们可以提供详细的税费咨询服务，确保您清楚所有费用。\n",
    "\n",
    "13.\n",
    "[客户问题] 附近有4S店吗？\n",
    "[销售回答] 是的，附近有我们的4S店，售后服务非常便捷。\n",
    "\n",
    "14.\n",
    "[客户问题] 我担心车位会很拥挤。\n",
    "[销售回答] 我们的4S店有充足的停车位，您可以放心。\n",
    "\n",
    "15.\n",
    "[客户问题] 这款车有导航和倒车雷达吗？\n",
    "[销售回答] 当然，我们的车辆都配备了导航和倒车雷达，驾驶非常便捷。\n",
    "\n",
    "16.\n",
    "[客户问题] 这款汽车的保险费用是多少？\n",
    "[销售回答] 保险费用会\n",
    "\n",
    "17.\n",
    "[客户问题] 我对贵公司的王朝网款式很感兴趣，能详细介绍一下吗？\n",
    "[销售回答] 当然，王朝网款式以宋,汉,唐等多款车型为主,性价比非常高，后续我在为您详细介绍。\n",
    "\n",
    "18.\n",
    "[客户问题] 我想了解一下分期付款政策。\n",
    "[销售回答] 我们提供灵活的分期付款政策，您可以选择适合您的付款期限和月付款额度。我们的金融专员会为您详细解释。\n",
    "\n",
    "19.\n",
    "[客户问题] 你们的售后服务如何？\n",
    "[销售回答] 我们提供全面的售后服务，包括定期保养、零件更换和故障维修等，我们的专业团队会确保您的汽车始终保持最佳状态。\n",
    "\n",
    "20.\n",
    "[客户问题] 我对贵公司的的海洋网款式很感兴趣，能详细介绍一下吗？\n",
    "[销售回答] 当然，我们的海洋网款式以其现代化的设计和卓越的性能受到了广大消费者的喜爱。具体的配置和性能，我们可以根据您的需求进行详细的介绍。\n",
    "\n",
    "21.\n",
    "[客户问题] 保值率如何？\n",
    "[销售回答] 我们汽车以其优秀的质量和卓越的性能，保值率一直处于行业领先水平。\n",
    "\n",
    "22.\n",
    "[客户问题] 我可以试驾车吗？\n",
    "[销售回答] 当然，我们非常欢迎您来我们的4S店试驾车型，感受一下我们汽车的卓越性能。\n",
    "\n",
    "23.\n",
    "[客户问题] 汽车的油耗如何？\n",
    "[销售回答] 油耗非常经济，无论是城市驾驶还是高速驾驶，都能保持低油耗。\n",
    "\n",
    "24.\n",
    "[客户问题] 汽车的内饰如何？\n",
    "[销售回答] 汽车的内饰设计现代而豪华，使用的材料都是高品质的，给您提供舒适的驾驶体验。\n",
    "\n",
    "25.\n",
    "[客户问题] 汽车的驾驶体验如何？\n",
    "[销售回答] 汽车的驾驶体验非常好，无论是操控性能还是舒适性，都能满足您的需求。\n",
    "\n",
    "26.\n",
    "[客户问题] 汽车的安全性能如何？\n",
    "[销售回答] 汽车的安全性能非常出色，配备了多种主动和被动安全系统，确保您的行车安全。\n",
    "\n",
    "27.\n",
    "[客户问题] 动力性能如何？\n",
    "[销售回答] 动力性能非常强大，无论是加速还是爬坡，都能轻松应对。\n",
    "\n",
    "28.\n",
    "[客户问题] 空间如何？\n",
    "[销售回答] 空间非常宽敞，无论是前排还是后排，都能提供充足的头部和腿部空间。\n",
    "\n",
    "29.\n",
    "[客户问题] 具体售价如何？\n",
    "[销售回答] 售价非常具有竞争力，我们提供多种款式和配置，一定有适合您预算的。\n",
    "\n",
    "30.\n",
    "[客户问题] 维修费用如何？\n",
    "[销售回答] 维修费用非常合理，我们的售后服务团队会为您提供高效的服务。\n",
    "\n",
    "31.\n",
    "[客户问题] 我可以选择汽车的颜色吗？\n",
    "[销售回答] 当然，我们的汽车有多种颜色供您选择，包括经典的黑色、白色，以及更多独特的颜色。\n",
    "\n",
    "32.\n",
    "[客户问题] 我可以选择轮毂的尺寸吗？\n",
    "[销售回答] 是的，我们提供多种尺寸的轮毂供您选择，有18,19,20寸的,当然尺寸不同，价格也不同，您可以根据您的需求和喜好来选择。\n",
    "\n",
    "33.\n",
    "[客户问题] 我可以升级音响配置吗？\n",
    "[销售回答] 当然，我们提供音响升级服务，您可以选择更高级的丹拿音响，以获得更好的立体音质环绕体验。\n",
    "\n",
    "34.\n",
    "[客户问题] 我喜欢红色的汽车，你们有提供吗？\n",
    "[销售回答] 是的，我们有提供红色的汽车，红色颜色非常鲜艳，非常受欢迎。\n",
    "\n",
    "35.\n",
    "[客户问题] 我想要19尺寸的轮毂，可以吗？\n",
    "[销售回答] 当然，19寸轮毂对于我们驾驶体验更好，汽车对颠簸路段的承受重量的能力也更好。\n",
    "\n",
    "36.\n",
    "[客户问题] 具体不同车型价格我想看一下，可以吗？\n",
    "[销售回答] 当然，我这边为您报下价格。\n",
    "\n",
    "37.\n",
    "[客户问题] 我现在下单，需要等待多久才能提车？\n",
    "[销售回答] 一般情况下，如果您选择的车型和配置我们有现车，那么您可以在下单后的一周内提车。如果需要定制，那么提车时间可能会稍长一些，具体时间需要根据您选择的车型和配置以及我们的生产安排来确定。\n",
    "\n",
    "38.\n",
    "[客户问题] 我购车后，你们提供几次免费保养？\n",
    "[销售回答] 我们为新车主提供的免费保养服务次数根据不同的车型和购车方案可能会有所不同。一般来说，我们会提供2-3次的免费保养服务。\n",
    "\n",
    "39.\n",
    "[客户问题] 提车时需要我亲自去4S店吗？\n",
    "[销售回答] 是的，我们建议您亲自来4S店提车，因为这样您可以亲自检查车辆，我们的销售顾问也会向您详细介绍车辆的各项功能。如果您因故不能亲自来提车，我们也可以安排送车上门的服务。\n",
    "\n",
    "40.\n",
    "[客户问题] 提车时需要准备什么文件？\n",
    "[销售回答] 提车时您需要带上您的身份证、驾驶证以及购车合同。如果您选择了分期付款，那么还需要带上与分期付款相关的文件。\n",
    "\n",
    "41.\n",
    "[客户问题] 提车时可以试驾吗？\n",
    "[销售回答] 当然，我们非常欢迎您在提车时试驾您的新车，感受一下它的驾驶性能。\n",
    "\n",
    "42.\n",
    "[客户问题] 提车后，我可以马上驾驶上路吗？\n",
    "[销售回答] 是的，您在提车后可以马上驾驶上路。但是，我们建议您在初次驾驶新车时，先在安全的环境下熟悉车辆的各项功能和驾驶性能。\n",
    "\n",
    "43.\n",
    "[客户问题] 提车后，我需要做什么保养？\n",
    "[销售回答] 提车后，您需要按照我们提供的保养手册进行定期保养，以确保车辆的性能和寿命。我们的售后服务团队会在您需要保养时提醒您。\n",
    "\n",
    "44.\n",
    "[客户问题] 提车后，如果我对车辆有任何问题，我应该怎么办？\n",
    "[销售回答] 如果您在提车后对车辆有任何问题，您可以随时联系我们的售后服务团队，我们会尽快为您解决问题。\n",
    "\n",
    "45.\n",
    "[客户问题] 谢谢你得解答\n",
    "[销售回答] 不客气,如果您有任何问题，都可以随时问我。\n",
    "```\n",
    "\n",
    "\n",
    "## 使用 Document Transformers 模块来处理原始数据\n",
    "\n",
    "\n",
    "将 ChatGPT 生成的结果保存到 [real_car_sales_data.txt](real_car_sales_data.txt) 文件中"
   ]
  },
  {
   "cell_type": "code",
   "execution_count": 31,
   "id": "efcee928-b9f4-4e4a-b9fb-f6cbee21b642",
   "metadata": {},
   "outputs": [],
   "source": [
    "with open(\"real_car_sales_data.txt\") as f:\n",
    "    real_car_sales = f.read()"
   ]
  },
  {
   "cell_type": "markdown",
   "id": "a5f5d501-29ae-472f-86ca-7ec2f7377591",
   "metadata": {},
   "source": [
    "### 使用 CharacterTextSplitter 来进行文本分割\n",
    "\n",
    "- 基于单字符来进行文本分割（separator）\n",
    "- 基于字符数来决定文本块长度（chunk_size）\n",
    "\n",
    "参考示例：\n",
    "\n",
    "```python\n",
    "from langchain.text_splitter import CharacterTextSplitter\n",
    "text_splitter = CharacterTextSplitter(       \n",
    "    separator = \"\\n\\n\",\n",
    "    chunk_size = 1000,\n",
    "    chunk_overlap  = 200,\n",
    "    length_function = len,\n",
    "    is_separator_regex = False,\n",
    ")\n",
    "```\n"
   ]
  },
  {
   "cell_type": "code",
   "execution_count": 32,
   "id": "dbe535b8-2bd8-4c31-91d7-eba8aa61b3ef",
   "metadata": {},
   "outputs": [],
   "source": [
    "from langchain.text_splitter import CharacterTextSplitter"
   ]
  },
  {
   "cell_type": "code",
   "execution_count": 33,
   "id": "a4f30d9b-9fc6-4860-a497-0aa8220b9284",
   "metadata": {},
   "outputs": [],
   "source": [
    "text_splitter = CharacterTextSplitter(        \n",
    "    separator = r'\\d+\\.',\n",
    "    chunk_size = 200,\n",
    "    chunk_overlap  = 0,\n",
    "    length_function = len,\n",
    "    is_separator_regex = True,\n",
    ")"
   ]
  },
  {
   "cell_type": "code",
   "execution_count": 34,
   "id": "530f3172-17a5-4924-ad17-284fbca422ae",
   "metadata": {},
   "outputs": [],
   "source": [
    "docs = text_splitter.create_documents([real_car_sales])"
   ]
  },
  {
   "cell_type": "code",
   "execution_count": 35,
   "id": "3956ec36-706e-4f43-88fc-d704f2984290",
   "metadata": {},
   "outputs": [
    {
     "data": {
      "text/plain": [
       "Document(page_content='[客户问题] 这款汽车的价格是多少?\\n[销售回答] 这款汽车的起售价是XX万元,具体价格根据您选择的配置和附加选项有所不同。\\n\\n\\\\d+\\\\.\\n[客户问题] 我担心汽车噪音大。\\n[销售回答] 这款汽车采用了先进的隔音技术,能有效降低驾驶噪音,为您提供宁静的驾驶环境。')"
      ]
     },
     "execution_count": 35,
     "metadata": {},
     "output_type": "execute_result"
    }
   ],
   "source": [
    "docs[0]"
   ]
  },
  {
   "cell_type": "code",
   "execution_count": 36,
   "id": "73b2d47a-27ae-4cd4-a72a-3809b4c22bff",
   "metadata": {},
   "outputs": [
    {
     "data": {
      "text/plain": [
       "20"
      ]
     },
     "execution_count": 36,
     "metadata": {},
     "output_type": "execute_result"
    }
   ],
   "source": [
    "len(docs)"
   ]
  },
  {
   "cell_type": "markdown",
   "id": "3228b004-27e7-461d-a73d-e8ff302bdf60",
   "metadata": {},
   "source": [
    "使用 Faiss 作为向量数据库，持久化存储汽车销售 问答对（QA-Pair）"
   ]
  },
  {
   "cell_type": "code",
   "execution_count": 37,
   "id": "508c2ab2-e187-424f-a43c-ca3d3b1a0550",
   "metadata": {},
   "outputs": [],
   "source": [
    "from langchain.embeddings.openai import OpenAIEmbeddings\n",
    "from langchain.text_splitter import CharacterTextSplitter\n",
    "from langchain.vectorstores import FAISS\n",
    "\n",
    "db = FAISS.from_documents(docs, OpenAIEmbeddings())"
   ]
  },
  {
   "cell_type": "code",
   "execution_count": 38,
   "id": "250e0873-95e2-4372-98a5-68c0feb304bb",
   "metadata": {},
   "outputs": [],
   "source": [
    "query = \"汽车有什么颜色\""
   ]
  },
  {
   "cell_type": "code",
   "execution_count": 39,
   "id": "0d18fcc6-c2be-434b-b8de-9648ac6f83f4",
   "metadata": {},
   "outputs": [],
   "source": [
    "answer_list = db.similarity_search(query)"
   ]
  },
  {
   "cell_type": "code",
   "execution_count": 40,
   "id": "e689667e-7a45-40d6-9eae-4e52cbc7daab",
   "metadata": {},
   "outputs": [
    {
     "name": "stdout",
     "output_type": "stream",
     "text": [
      "[客户问题] 我可以选择汽车的颜色吗？\n",
      "[销售回答] 当然，我们的汽车有多种颜色供您选择，包括经典的黑色、白色，以及更多独特的颜色。\n",
      "\n",
      "\\d+\\.\n",
      "[客户问题] 我可以选择轮毂的尺寸吗？\n",
      "[销售回答] 是的，我们提供多种尺寸的轮毂供您选择，有18,19,20寸的,当然尺寸不同，价格也不同，您可以根据您的需求和喜好来选择。\n",
      "\n",
      "[客户问题] 我想要白色的车。\n",
      "[销售回答] 很好，我们确实有白色的车型，它们的外观非常漂亮。\n",
      "\n",
      "\\d+\\.\n",
      "[客户问题] 这款车安全吗？\n",
      "[销售回答] 当然，我们的车辆都配备了最新的安全系统，包括ABS、EBD、ESP等。\n",
      "\n",
      "\\d+\\.\n",
      "[客户问题] 预计什么时候交车？\n",
      "[销售回答] 根据目前的进度，我们预计将在一个月后交车。\n",
      "\n",
      "[客户问题] 我可以升级音响配置吗？\n",
      "[销售回答] 当然，我们提供音响升级服务，您可以选择更高级的丹拿音响，以获得更好的立体音质环绕体验。\n",
      "\n",
      "\\d+\\.\n",
      "[客户问题] 我喜欢红色的汽车，你们有提供吗？\n",
      "[销售回答] 是的，我们有提供红色的汽车，红色颜色非常鲜艳，非常受欢迎。\n",
      "\n",
      "[客户问题] 这款汽车的价格是多少?\n",
      "[销售回答] 这款汽车的起售价是XX万元,具体价格根据您选择的配置和附加选项有所不同。\n",
      "\n",
      "\\d+\\.\n",
      "[客户问题] 我担心汽车噪音大。\n",
      "[销售回答] 这款汽车采用了先进的隔音技术,能有效降低驾驶噪音,为您提供宁静的驾驶环境。\n",
      "\n"
     ]
    }
   ],
   "source": [
    "for ans in answer_list:\n",
    "    print(ans.page_content + \"\\n\")"
   ]
  },
  {
   "cell_type": "code",
   "execution_count": 41,
   "id": "a6cc47bf-1566-472f-84d2-a46bd634907c",
   "metadata": {},
   "outputs": [],
   "source": [
    "db.save_local(\"real_car_sale\")"
   ]
  },
  {
   "cell_type": "markdown",
   "id": "0d5323e5-03fa-4c1c-b896-3ccc28af1857",
   "metadata": {},
   "source": [
    "### 使用 retriever 从向量数据库中获取结果\n",
    "\n",
    "#### 使用参数 `k` 指定返回结果数量\n"
   ]
  },
  {
   "cell_type": "code",
   "execution_count": 42,
   "id": "17f051c9-8676-48d1-a9a4-e69b52630faf",
   "metadata": {},
   "outputs": [],
   "source": [
    "# 实例化一个 TopK Retriever\n",
    "topK_retriever = db.as_retriever(search_kwargs={\"k\": 3})"
   ]
  },
  {
   "cell_type": "code",
   "execution_count": 43,
   "id": "e33024db-ca7b-4d68-9b0e-c31c15ded57d",
   "metadata": {},
   "outputs": [
    {
     "data": {
      "text/plain": [
       "VectorStoreRetriever(tags=['FAISS', 'OpenAIEmbeddings'], vectorstore=<langchain_community.vectorstores.faiss.FAISS object at 0x000001D2062D9120>, search_kwargs={'k': 3})"
      ]
     },
     "execution_count": 43,
     "metadata": {},
     "output_type": "execute_result"
    }
   ],
   "source": [
    "topK_retriever"
   ]
  },
  {
   "cell_type": "code",
   "execution_count": 44,
   "id": "7efb1414-859f-4818-bacd-e1e2edf34b95",
   "metadata": {},
   "outputs": [
    {
     "name": "stdout",
     "output_type": "stream",
     "text": [
      "[客户问题] 我可以选择汽车的颜色吗？\n",
      "[销售回答] 当然，我们的汽车有多种颜色供您选择，包括经典的黑色、白色，以及更多独特的颜色。\n",
      "\n",
      "\\d+\\.\n",
      "[客户问题] 我可以选择轮毂的尺寸吗？\n",
      "[销售回答] 是的，我们提供多种尺寸的轮毂供您选择，有18,19,20寸的,当然尺寸不同，价格也不同，您可以根据您的需求和喜好来选择。\n",
      "\n",
      "[客户问题] 我想要白色的车。\n",
      "[销售回答] 很好，我们确实有白色的车型，它们的外观非常漂亮。\n",
      "\n",
      "\\d+\\.\n",
      "[客户问题] 这款车安全吗？\n",
      "[销售回答] 当然，我们的车辆都配备了最新的安全系统，包括ABS、EBD、ESP等。\n",
      "\n",
      "\\d+\\.\n",
      "[客户问题] 预计什么时候交车？\n",
      "[销售回答] 根据目前的进度，我们预计将在一个月后交车。\n",
      "\n",
      "[客户问题] 我可以升级音响配置吗？\n",
      "[销售回答] 当然，我们提供音响升级服务，您可以选择更高级的丹拿音响，以获得更好的立体音质环绕体验。\n",
      "\n",
      "\\d+\\.\n",
      "[客户问题] 我喜欢红色的汽车，你们有提供吗？\n",
      "[销售回答] 是的，我们有提供红色的汽车，红色颜色非常鲜艳，非常受欢迎。\n",
      "\n"
     ]
    }
   ],
   "source": [
    "docs = topK_retriever.get_relevant_documents(query)\n",
    "for doc in docs:\n",
    "    print(doc.page_content + \"\\n\")"
   ]
  },
  {
   "cell_type": "code",
   "execution_count": 45,
   "id": "a3c4b62d-6f8f-461b-a4fb-41c8a404b831",
   "metadata": {},
   "outputs": [],
   "source": [
    "docs = topK_retriever.get_relevant_documents(\"你们有没有1000万的豪宅啊？\")"
   ]
  },
  {
   "cell_type": "code",
   "execution_count": 46,
   "id": "04cca3d7-23d9-491f-8350-faeb19861dec",
   "metadata": {},
   "outputs": [
    {
     "name": "stdout",
     "output_type": "stream",
     "text": [
      "[客户问题] 我不想要基础款的车。\n",
      "[销售回答] 我理解您的需求，我们还有多种配置的车型可以选择。\n",
      "\n",
      "\\d+\\.\n",
      "[客户问题] 有优惠吗？\n",
      "[销售回答] 当然，如果您现在下订，我们可以给您一些优惠。\n",
      "\n",
      "\\d+\\.\n",
      "[客户问题] 你们是否提供分期付款服务？\n",
      "[销售回答] 是的，我们与多家银行合作，可以帮助您快速办理分期付款。\n",
      "\n",
      "[客户问题] 这款汽车的价格是多少?\n",
      "[销售回答] 这款汽车的起售价是XX万元,具体价格根据您选择的配置和附加选项有所不同。\n",
      "\n",
      "\\d+\\.\n",
      "[客户问题] 我担心汽车噪音大。\n",
      "[销售回答] 这款汽车采用了先进的隔音技术,能有效降低驾驶噪音,为您提供宁静的驾驶环境。\n",
      "\n",
      "[客户问题] 我可以升级音响配置吗？\n",
      "[销售回答] 当然，我们提供音响升级服务，您可以选择更高级的丹拿音响，以获得更好的立体音质环绕体验。\n",
      "\n",
      "\\d+\\.\n",
      "[客户问题] 我喜欢红色的汽车，你们有提供吗？\n",
      "[销售回答] 是的，我们有提供红色的汽车，红色颜色非常鲜艳，非常受欢迎。\n",
      "\n"
     ]
    }
   ],
   "source": [
    "for doc in docs:\n",
    "    print(doc.page_content + \"\\n\")"
   ]
  },
  {
   "cell_type": "markdown",
   "id": "b335c9e5-bc01-4a47-916c-03bec0e7a839",
   "metadata": {},
   "source": [
    "#### 使用 similarity_score_threshold 设置阈值，提升结果的相关性质量"
   ]
  },
  {
   "cell_type": "code",
   "execution_count": 47,
   "id": "b1298956-6cf3-4a68-a3c2-a3149f64f156",
   "metadata": {},
   "outputs": [],
   "source": [
    "# 实例化一个 similarity_score_threshold Retriever\n",
    "retriever = db.as_retriever(\n",
    "    search_type=\"similarity_score_threshold\",\n",
    "    search_kwargs={\"score_threshold\": 0.8}\n",
    ")"
   ]
  },
  {
   "cell_type": "code",
   "execution_count": 48,
   "id": "d61167de-72ed-4618-a2e1-5df04784a3bc",
   "metadata": {},
   "outputs": [
    {
     "name": "stdout",
     "output_type": "stream",
     "text": [
      "[客户问题] 我可以选择汽车的颜色吗？\n",
      "[销售回答] 当然，我们的汽车有多种颜色供您选择，包括经典的黑色、白色，以及更多独特的颜色。\n",
      "\n",
      "\\d+\\.\n",
      "[客户问题] 我可以选择轮毂的尺寸吗？\n",
      "[销售回答] 是的，我们提供多种尺寸的轮毂供您选择，有18,19,20寸的,当然尺寸不同，价格也不同，您可以根据您的需求和喜好来选择。\n",
      "\n"
     ]
    }
   ],
   "source": [
    "docs = retriever.get_relevant_documents(query)\n",
    "for doc in docs:\n",
    "    print(doc.page_content + \"\\n\")"
   ]
  },
  {
   "cell_type": "code",
   "execution_count": null,
   "id": "548d1b52-6fa2-46d6-9218-908db572f380",
   "metadata": {},
   "outputs": [],
   "source": []
  },
  {
   "cell_type": "markdown",
   "id": "c31344ce-f952-4604-b700-fdbb34da1e28",
   "metadata": {},
   "source": [
    "### 提取向量数据库中的`销售回答`"
   ]
  },
  {
   "cell_type": "code",
   "execution_count": 49,
   "id": "25768463-da65-4762-978d-51c0c3a9c24b",
   "metadata": {},
   "outputs": [],
   "source": [
    "docs = retriever.get_relevant_documents(query)"
   ]
  },
  {
   "cell_type": "code",
   "execution_count": 50,
   "id": "4838d3da-dca3-4c31-80da-cec75760a833",
   "metadata": {},
   "outputs": [
    {
     "data": {
      "text/plain": [
       "'[客户问题] 我可以选择汽车的颜色吗？\\n[销售回答] 当然，我们的汽车有多种颜色供您选择，包括经典的黑色、白色，以及更多独特的颜色。\\n\\n\\\\d+\\\\.\\n[客户问题] 我可以选择轮毂的尺寸吗？\\n[销售回答] 是的，我们提供多种尺寸的轮毂供您选择，有18,19,20寸的,当然尺寸不同，价格也不同，您可以根据您的需求和喜好来选择。'"
      ]
     },
     "execution_count": 50,
     "metadata": {},
     "output_type": "execute_result"
    }
   ],
   "source": [
    "docs[0].page_content"
   ]
  },
  {
   "cell_type": "code",
   "execution_count": 51,
   "id": "1ba30232-f468-4102-b70c-02c8b74da43d",
   "metadata": {},
   "outputs": [
    {
     "data": {
      "text/plain": [
       "['[客户问题] 我可以选择汽车的颜色吗？\\n',\n",
       " '当然，我们的汽车有多种颜色供您选择，包括经典的黑色、白色，以及更多独特的颜色。\\n\\n\\\\d+\\\\.\\n[客户问题] 我可以选择轮毂的尺寸吗？\\n',\n",
       " '是的，我们提供多种尺寸的轮毂供您选择，有18,19,20寸的,当然尺寸不同，价格也不同，您可以根据您的需求和喜好来选择。']"
      ]
     },
     "execution_count": 51,
     "metadata": {},
     "output_type": "execute_result"
    }
   ],
   "source": [
    "docs[0].page_content.split(\"[销售回答] \")"
   ]
  },
  {
   "cell_type": "code",
   "execution_count": 52,
   "id": "bda8eb0c-eb1f-47b2-91ab-4c94ff71c3db",
   "metadata": {},
   "outputs": [],
   "source": [
    "ans = docs[0].page_content.split(\"[销售回答] \")[-1]"
   ]
  },
  {
   "cell_type": "code",
   "execution_count": 53,
   "id": "917a3b6c-3149-42e2-b7b6-abebd94b7f72",
   "metadata": {},
   "outputs": [
    {
     "data": {
      "text/plain": [
       "'是的，我们提供多种尺寸的轮毂供您选择，有18,19,20寸的,当然尺寸不同，价格也不同，您可以根据您的需求和喜好来选择。'"
      ]
     },
     "execution_count": 53,
     "metadata": {},
     "output_type": "execute_result"
    }
   ],
   "source": [
    "ans"
   ]
  },
  {
   "cell_type": "markdown",
   "id": "b36b61a5-156d-4546-bbd1-8a983e94676b",
   "metadata": {},
   "source": [
    "#### 尝试各种问题"
   ]
  },
  {
   "cell_type": "code",
   "execution_count": 54,
   "id": "c311a656-e571-45d6-8690-88e4be2c2a65",
   "metadata": {},
   "outputs": [],
   "source": [
    "from typing import List\n",
    "\n",
    "def sales(query: str, score_threshold: float=0.8) -> List[str]:\n",
    "    retriever = db.as_retriever(search_type=\"similarity_score_threshold\", search_kwargs={\"score_threshold\": score_threshold})    \n",
    "    docs = retriever.get_relevant_documents(query)\n",
    "    ans_list = [doc.page_content.split(\"[销售回答] \")[-1] for doc in docs]\n",
    "\n",
    "    return ans_list"
   ]
  },
  {
   "cell_type": "code",
   "execution_count": 55,
   "id": "2f4c6c08-b97c-4727-9aa1-a474d85a11e4",
   "metadata": {},
   "outputs": [
    {
     "name": "stdout",
     "output_type": "stream",
     "text": [
      "[]\n"
     ]
    },
    {
     "name": "stderr",
     "output_type": "stream",
     "text": [
      "D:\\AI\\miniconda3\\envs\\langchain\\lib\\site-packages\\langchain_core\\vectorstores.py:342: UserWarning: No relevant docs were retrieved using the relevance score threshold 0.8\n",
      "  warnings.warn(\n"
     ]
    }
   ],
   "source": [
    "query = \"我想要价格近点\"\n",
    "\n",
    "print(sales(query))"
   ]
  },
  {
   "cell_type": "code",
   "execution_count": 56,
   "id": "11e3d8b6-839f-4b2f-b519-841e0271f95b",
   "metadata": {},
   "outputs": [
    {
     "name": "stdout",
     "output_type": "stream",
     "text": [
      "[]\n"
     ]
    },
    {
     "name": "stderr",
     "output_type": "stream",
     "text": [
      "D:\\AI\\miniconda3\\envs\\langchain\\lib\\site-packages\\langchain_core\\vectorstores.py:342: UserWarning: No relevant docs were retrieved using the relevance score threshold 0.75\n",
      "  warnings.warn(\n"
     ]
    }
   ],
   "source": [
    "print(sales(query, 0.75))"
   ]
  },
  {
   "cell_type": "code",
   "execution_count": 57,
   "id": "fc5b030a-ae6f-4d42-9577-1420c78aecb1",
   "metadata": {},
   "outputs": [
    {
     "name": "stderr",
     "output_type": "stream",
     "text": [
      "D:\\AI\\miniconda3\\envs\\langchain\\lib\\site-packages\\langchain_core\\vectorstores.py:342: UserWarning: No relevant docs were retrieved using the relevance score threshold 0.8\n",
      "  warnings.warn(\n"
     ]
    },
    {
     "name": "stdout",
     "output_type": "stream",
     "text": [
      "score:0.8 ans: []\n",
      "\n"
     ]
    },
    {
     "name": "stderr",
     "output_type": "stream",
     "text": [
      "D:\\AI\\miniconda3\\envs\\langchain\\lib\\site-packages\\langchain_core\\vectorstores.py:342: UserWarning: No relevant docs were retrieved using the relevance score threshold 0.75\n",
      "  warnings.warn(\n"
     ]
    },
    {
     "name": "stdout",
     "output_type": "stream",
     "text": [
      "score:0.75 ans: []\n",
      "\n",
      "score:0.5 ans: ['这款汽车采用了先进的隔音技术,能有效降低驾驶噪音,为您提供宁静的驾驶环境。', '我们的保养服务得到了车主一致好评，服务非常到位。', '维修费用非常合理，我们的售后服务团队会为您提供高效的服务。', '我们汽车以其优秀的质量和卓越的性能，保值率一直处于行业领先水平。']\n",
      "\n"
     ]
    }
   ],
   "source": [
    "query = \"价格200万以内\"\n",
    "\n",
    "print(f\"score:0.8 ans: {sales(query)}\\n\")\n",
    "print(f\"score:0.75 ans: {sales(query, 0.75)}\\n\")\n",
    "print(f\"score:0.5 ans: {sales(query, 0.5)}\\n\")"
   ]
  },
  {
   "cell_type": "markdown",
   "id": "9e26e6d7-259b-4ecf-9c72-027befba4e3b",
   "metadata": {},
   "source": [
    "#### 当向量数据库中没有合适答案时，使用大语言模型能力"
   ]
  },
  {
   "cell_type": "code",
   "execution_count": 29,
   "id": "9142feb4-980a-4142-b367-1401021dceef",
   "metadata": {},
   "outputs": [],
   "source": [
    "from langchain.chains import RetrievalQA\n",
    "from langchain_openai import ChatOpenAI\n",
    "\n",
    "llm = ChatOpenAI(model_name=\"gpt-4-1106-preview\", temperature=0.5)\n",
    "qa_chain = RetrievalQA.from_chain_type(llm,\n",
    "                                       retriever=db.as_retriever(search_type=\"similarity_score_threshold\",\n",
    "                                                                 search_kwargs={\"score_threshold\": 0.8}))"
   ]
  },
  {
   "cell_type": "code",
   "execution_count": 60,
   "id": "d281b560-54bb-4a25-a1dc-b23874361654",
   "metadata": {},
   "outputs": [
    {
     "name": "stdout",
     "output_type": "stream",
     "text": [
      "[]\n"
     ]
    },
    {
     "name": "stderr",
     "output_type": "stream",
     "text": [
      "D:\\AI\\miniconda3\\envs\\langchain\\lib\\site-packages\\langchain_core\\vectorstores.py:342: UserWarning: No relevant docs were retrieved using the relevance score threshold 0.8\n",
      "  warnings.warn(\n"
     ]
    }
   ],
   "source": [
    "\n",
    "query = \"你们绿色的车子吗\"\n",
    "print(sales(query))"
   ]
  },
  {
   "cell_type": "code",
   "execution_count": 63,
   "id": "c6a30dcc-fa6b-4282-935c-b07902746e19",
   "metadata": {},
   "outputs": [
    {
     "name": "stdout",
     "output_type": "stream",
     "text": [
      "[]\n"
     ]
    },
    {
     "name": "stderr",
     "output_type": "stream",
     "text": [
      "D:\\AI\\miniconda3\\envs\\langchain\\lib\\site-packages\\langchain_core\\vectorstores.py:342: UserWarning: No relevant docs were retrieved using the relevance score threshold 0.75\n",
      "  warnings.warn(\n"
     ]
    }
   ],
   "source": [
    "print(sales(query, 0.75))"
   ]
  },
  {
   "cell_type": "code",
   "execution_count": 64,
   "id": "9da44bd6-02ef-4fb6-8e9e-7c99aeba483a",
   "metadata": {},
   "outputs": [
    {
     "name": "stdout",
     "output_type": "stream",
     "text": [
      "[]\n"
     ]
    },
    {
     "name": "stderr",
     "output_type": "stream",
     "text": [
      "D:\\AI\\miniconda3\\envs\\langchain\\lib\\site-packages\\langchain_core\\vectorstores.py:342: UserWarning: No relevant docs were retrieved using the relevance score threshold 0.8\n",
      "  warnings.warn(\n"
     ]
    }
   ],
   "source": [
    "print(sales(\"各种颜色都有的\"))"
   ]
  },
  {
   "cell_type": "code",
   "execution_count": null,
   "id": "9764bb10-44ed-47c9-a351-a68f4f7d4f44",
   "metadata": {},
   "outputs": [],
   "source": []
  },
  {
   "cell_type": "markdown",
   "id": "0a0647e8-5b41-4c93-87c2-3240ec558717",
   "metadata": {},
   "source": [
    "## 加载 FAISS 向量数据库已有结果"
   ]
  },
  {
   "cell_type": "code",
   "execution_count": 75,
   "id": "913edd04-37ea-4c3f-9346-086aeb0ab447",
   "metadata": {},
   "outputs": [
    {
     "ename": "ValueError",
     "evalue": "The de-serialization relies loading a pickle file. Pickle files can be modified to deliver a malicious payload that results in execution of arbitrary code on your machine.You will need to set `allow_dangerous_deserialization` to `True` to enable deserialization. If you do this, make sure that you trust the source of the data. For example, if you are loading a file that you created, and know that no one else has modified the file, then this is safe to do. Do not set this to `True` if you are loading a file from an untrusted source (e.g., some random site on the internet.).",
     "output_type": "error",
     "traceback": [
      "\u001b[1;31m---------------------------------------------------------------------------\u001b[0m",
      "\u001b[1;31mValueError\u001b[0m                                Traceback (most recent call last)",
      "Cell \u001b[1;32mIn[75], line 4\u001b[0m\n\u001b[0;32m      1\u001b[0m \u001b[38;5;28;01mfrom\u001b[39;00m \u001b[38;5;21;01mlangchain_openai\u001b[39;00m \u001b[38;5;28;01mimport\u001b[39;00m OpenAIEmbeddings\n\u001b[0;32m      2\u001b[0m \u001b[38;5;28;01mfrom\u001b[39;00m \u001b[38;5;21;01mlangchain\u001b[39;00m\u001b[38;5;21;01m.\u001b[39;00m\u001b[38;5;21;01mvectorstores\u001b[39;00m \u001b[38;5;28;01mimport\u001b[39;00m FAISS\n\u001b[1;32m----> 4\u001b[0m db \u001b[38;5;241m=\u001b[39m \u001b[43mFAISS\u001b[49m\u001b[38;5;241;43m.\u001b[39;49m\u001b[43mload_local\u001b[49m\u001b[43m(\u001b[49m\u001b[38;5;124;43m\"\u001b[39;49m\u001b[38;5;124;43mreal_car_sale\u001b[39;49m\u001b[38;5;124;43m\"\u001b[39;49m\u001b[43m,\u001b[49m\u001b[43m \u001b[49m\u001b[43mOpenAIEmbeddings\u001b[49m\u001b[43m(\u001b[49m\u001b[43m)\u001b[49m\u001b[43m)\u001b[49m\n",
      "File \u001b[1;32mD:\\AI\\miniconda3\\envs\\langchain\\lib\\site-packages\\langchain_community\\vectorstores\\faiss.py:1078\u001b[0m, in \u001b[0;36mFAISS.load_local\u001b[1;34m(cls, folder_path, embeddings, index_name, allow_dangerous_deserialization, **kwargs)\u001b[0m\n\u001b[0;32m   1063\u001b[0m \u001b[38;5;250m\u001b[39m\u001b[38;5;124;03m\"\"\"Load FAISS index, docstore, and index_to_docstore_id from disk.\u001b[39;00m\n\u001b[0;32m   1064\u001b[0m \n\u001b[0;32m   1065\u001b[0m \u001b[38;5;124;03mArgs:\u001b[39;00m\n\u001b[1;32m   (...)\u001b[0m\n\u001b[0;32m   1075\u001b[0m \u001b[38;5;124;03m    asynchronous: whether to use async version or not\u001b[39;00m\n\u001b[0;32m   1076\u001b[0m \u001b[38;5;124;03m\"\"\"\u001b[39;00m\n\u001b[0;32m   1077\u001b[0m \u001b[38;5;28;01mif\u001b[39;00m \u001b[38;5;129;01mnot\u001b[39;00m allow_dangerous_deserialization:\n\u001b[1;32m-> 1078\u001b[0m     \u001b[38;5;28;01mraise\u001b[39;00m \u001b[38;5;167;01mValueError\u001b[39;00m(\n\u001b[0;32m   1079\u001b[0m         \u001b[38;5;124m\"\u001b[39m\u001b[38;5;124mThe de-serialization relies loading a pickle file. \u001b[39m\u001b[38;5;124m\"\u001b[39m\n\u001b[0;32m   1080\u001b[0m         \u001b[38;5;124m\"\u001b[39m\u001b[38;5;124mPickle files can be modified to deliver a malicious payload that \u001b[39m\u001b[38;5;124m\"\u001b[39m\n\u001b[0;32m   1081\u001b[0m         \u001b[38;5;124m\"\u001b[39m\u001b[38;5;124mresults in execution of arbitrary code on your machine.\u001b[39m\u001b[38;5;124m\"\u001b[39m\n\u001b[0;32m   1082\u001b[0m         \u001b[38;5;124m\"\u001b[39m\u001b[38;5;124mYou will need to set `allow_dangerous_deserialization` to `True` to \u001b[39m\u001b[38;5;124m\"\u001b[39m\n\u001b[0;32m   1083\u001b[0m         \u001b[38;5;124m\"\u001b[39m\u001b[38;5;124menable deserialization. If you do this, make sure that you \u001b[39m\u001b[38;5;124m\"\u001b[39m\n\u001b[0;32m   1084\u001b[0m         \u001b[38;5;124m\"\u001b[39m\u001b[38;5;124mtrust the source of the data. For example, if you are loading a \u001b[39m\u001b[38;5;124m\"\u001b[39m\n\u001b[0;32m   1085\u001b[0m         \u001b[38;5;124m\"\u001b[39m\u001b[38;5;124mfile that you created, and know that no one else has modified the \u001b[39m\u001b[38;5;124m\"\u001b[39m\n\u001b[0;32m   1086\u001b[0m         \u001b[38;5;124m\"\u001b[39m\u001b[38;5;124mfile, then this is safe to do. Do not set this to `True` if you are \u001b[39m\u001b[38;5;124m\"\u001b[39m\n\u001b[0;32m   1087\u001b[0m         \u001b[38;5;124m\"\u001b[39m\u001b[38;5;124mloading a file from an untrusted source (e.g., some random site on \u001b[39m\u001b[38;5;124m\"\u001b[39m\n\u001b[0;32m   1088\u001b[0m         \u001b[38;5;124m\"\u001b[39m\u001b[38;5;124mthe internet.).\u001b[39m\u001b[38;5;124m\"\u001b[39m\n\u001b[0;32m   1089\u001b[0m     )\n\u001b[0;32m   1090\u001b[0m path \u001b[38;5;241m=\u001b[39m Path(folder_path)\n\u001b[0;32m   1091\u001b[0m \u001b[38;5;66;03m# load index separately since it is not picklable\u001b[39;00m\n",
      "\u001b[1;31mValueError\u001b[0m: The de-serialization relies loading a pickle file. Pickle files can be modified to deliver a malicious payload that results in execution of arbitrary code on your machine.You will need to set `allow_dangerous_deserialization` to `True` to enable deserialization. If you do this, make sure that you trust the source of the data. For example, if you are loading a file that you created, and know that no one else has modified the file, then this is safe to do. Do not set this to `True` if you are loading a file from an untrusted source (e.g., some random site on the internet.)."
     ]
    }
   ],
   "source": [
    "from langchain_openai import OpenAIEmbeddings\n",
    "from langchain.vectorstores import FAISS\n",
    "\n",
    "db = FAISS.load_local(\"real_car_sale\", OpenAIEmbeddings())"
   ]
  },
  {
   "cell_type": "code",
   "execution_count": 66,
   "id": "77d8eee4-6383-4b4a-9737-95ea9fc53b87",
   "metadata": {},
   "outputs": [
    {
     "name": "stderr",
     "output_type": "stream",
     "text": [
      "D:\\AI\\miniconda3\\envs\\langchain\\lib\\site-packages\\langchain_core\\_api\\deprecation.py:119: LangChainDeprecationWarning: The class `ChatOpenAI` was deprecated in LangChain 0.0.10 and will be removed in 0.3.0. An updated version of the class exists in the langchain-openai package and should be used instead. To use it run `pip install -U langchain-openai` and import as `from langchain_openai import ChatOpenAI`.\n",
      "  warn_deprecated(\n"
     ]
    }
   ],
   "source": [
    "from langchain.chains import RetrievalQA\n",
    "from langchain.chat_models import ChatOpenAI\n",
    "\n",
    "llm = ChatOpenAI(model_name=\"gpt-4\", temperature=0.5)\n",
    "qa_chain = RetrievalQA.from_chain_type(llm,\n",
    "                                       retriever=db.as_retriever(search_type=\"similarity_score_threshold\",\n",
    "                                                                 search_kwargs={\"score_threshold\": 0.8}))"
   ]
  },
  {
   "cell_type": "code",
   "execution_count": 68,
   "id": "5dfac197-cadb-47d7-8cbe-1b07a83fc8e1",
   "metadata": {},
   "outputs": [
    {
     "name": "stderr",
     "output_type": "stream",
     "text": [
      "D:\\AI\\miniconda3\\envs\\langchain\\lib\\site-packages\\langchain_core\\vectorstores.py:342: UserWarning: No relevant docs were retrieved using the relevance score threshold 0.8\n",
      "  warnings.warn(\n"
     ]
    },
    {
     "data": {
      "text/plain": [
       "{'query': '我想买保驰捷，你们有么',\n",
       " 'result': '对不起，我不能帮助你购买商品或服务，因为我是一个人工智能助手，我主要提供信息和回答问题。你可以在网上搜索或者去当地的汽车经销商寻找保驰捷。'}"
      ]
     },
     "execution_count": 68,
     "metadata": {},
     "output_type": "execute_result"
    }
   ],
   "source": [
    "qa_chain({\"query\": \"我想买保驰捷，你们有么\"})"
   ]
  },
  {
   "cell_type": "code",
   "execution_count": 69,
   "id": "fc393afc-06d3-4483-bd24-efe000ef5f2a",
   "metadata": {},
   "outputs": [],
   "source": [
    "# 输出内部 Chain 的日志\n",
    "qa_chain.combine_documents_chain.verbose = True"
   ]
  },
  {
   "cell_type": "code",
   "execution_count": 70,
   "id": "013c313a-5e7c-48d1-8ed4-eee96e50a99c",
   "metadata": {},
   "outputs": [
    {
     "name": "stderr",
     "output_type": "stream",
     "text": [
      "D:\\AI\\miniconda3\\envs\\langchain\\lib\\site-packages\\langchain_core\\vectorstores.py:342: UserWarning: No relevant docs were retrieved using the relevance score threshold 0.8\n",
      "  warnings.warn(\n"
     ]
    },
    {
     "name": "stdout",
     "output_type": "stream",
     "text": [
      "\n",
      "\n",
      "\u001b[1m> Entering new StuffDocumentsChain chain...\u001b[0m\n",
      "\n",
      "\u001b[1m> Finished chain.\u001b[0m\n"
     ]
    },
    {
     "data": {
      "text/plain": [
       "{'query': '我想买奔驰，你们有么',\n",
       " 'result': '对不起，我不能帮助你购买奔驰，因为我是一个人工智能，无法进行实物交易。你可以直接去奔驰的官方网站或者附近的奔驰汽车经销商进行购买。'}"
      ]
     },
     "execution_count": 70,
     "metadata": {},
     "output_type": "execute_result"
    }
   ],
   "source": [
    "qa_chain({\"query\": \"我想买奔驰，你们有么\"})"
   ]
  },
  {
   "cell_type": "code",
   "execution_count": 71,
   "id": "e5fb0943-ffe9-4270-8dbe-f5f5314e6042",
   "metadata": {},
   "outputs": [],
   "source": [
    "# 返回向量数据库的检索结果\n",
    "qa_chain.return_source_documents = True"
   ]
  }
 ],
 "metadata": {
  "kernelspec": {
   "display_name": "langchain",
   "language": "python",
   "name": "langchain"
  },
  "language_info": {
   "codemirror_mode": {
    "name": "ipython",
    "version": 3
   },
   "file_extension": ".py",
   "mimetype": "text/x-python",
   "name": "python",
   "nbconvert_exporter": "python",
   "pygments_lexer": "ipython3",
   "version": "3.10.14"
  }
 },
 "nbformat": 4,
 "nbformat_minor": 5
}
